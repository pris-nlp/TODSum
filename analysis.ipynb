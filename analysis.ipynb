{
 "cells": [
  {
   "cell_type": "code",
   "execution_count": 22,
   "metadata": {},
   "outputs": [],
   "source": [
    "'''load datas'''\n",
    "import json\n",
    "with open('todsum.json', 'r') as f:\n",
    "    all_datas = json.load(f)"
   ]
  },
  {
   "cell_type": "code",
   "execution_count": 23,
   "metadata": {},
   "outputs": [
    {
     "name": "stdout",
     "output_type": "stream",
     "text": [
      "9906\n"
     ]
    }
   ],
   "source": [
    "'''dataset size'''\n",
    "print(len(all_datas))"
   ]
  },
  {
   "cell_type": "code",
   "execution_count": 24,
   "metadata": {},
   "outputs": [
    {
     "name": "stdout",
     "output_type": "stream",
     "text": [
      "186.73450434080354\n"
     ]
    }
   ],
   "source": [
    "'''dialogue length'''\n",
    "all_dialogue_tokens = 0\n",
    "for item in all_datas:\n",
    "    dialogue = item[\"text\"]\n",
    "    for line in dialogue:\n",
    "        line = line.split(\" \")\n",
    "        line = [l for l in line if l != \"\"]\n",
    "        all_dialogue_tokens += len(line)\n",
    "print(all_dialogue_tokens / len(all_datas))"
   ]
  },
  {
   "cell_type": "code",
   "execution_count": 25,
   "metadata": {},
   "outputs": [
    {
     "name": "stdout",
     "output_type": "stream",
     "text": [
      "14.097920452251161\n"
     ]
    }
   ],
   "source": [
    "'''turn num'''\n",
    "all_turn_nums = 0\n",
    "for item in all_datas:\n",
    "    dialogue = item[\"text\"]\n",
    "    all_turn_nums += len(dialogue)\n",
    "print(all_turn_nums / len(all_datas))"
   ]
  },
  {
   "cell_type": "code",
   "execution_count": 26,
   "metadata": {},
   "outputs": [
    {
     "name": "stdout",
     "output_type": "stream",
     "text": [
      "45.415404805168585\n"
     ]
    }
   ],
   "source": [
    "'''summary length'''\n",
    "all_summ_tokens = 0\n",
    "for item in all_datas:\n",
    "    summary = item[\"summary\"]\n",
    "    for line in summary:\n",
    "        all_summ_tokens += len(line.split(\" \"))\n",
    "print(all_summ_tokens / len(all_datas))"
   ]
  },
  {
   "cell_type": "code",
   "execution_count": 27,
   "metadata": {},
   "outputs": [
    {
     "name": "stdout",
     "output_type": "stream",
     "text": [
      "all domains:  {'taxi', 'attraction', 'train', 'restaurant', 'hotel'}\n",
      "domains num:  5\n"
     ]
    }
   ],
   "source": [
    "'''domains'''\n",
    "all_domains = set()\n",
    "for item in all_datas:\n",
    "    dst = item[\"dst\"]\n",
    "    domains = list(dst.keys())\n",
    "    for d in domains:\n",
    "        if d not in all_domains:\n",
    "            all_domains.add(d)\n",
    "print(\"all domains: \", all_domains)\n",
    "print(\"domains num: \", len(all_domains))"
   ]
  }
 ],
 "metadata": {
  "interpreter": {
   "hash": "84909936914b311b127c9e6b3976df5cf148e9fa32a3a6aaf928fab67f3af318"
  },
  "kernelspec": {
   "display_name": "Python 3.7.10 ('sc-gpt': conda)",
   "language": "python",
   "name": "python3"
  },
  "language_info": {
   "codemirror_mode": {
    "name": "ipython",
    "version": 3
   },
   "file_extension": ".py",
   "mimetype": "text/x-python",
   "name": "python",
   "nbconvert_exporter": "python",
   "pygments_lexer": "ipython3",
   "version": "3.8.9"
  },
  "orig_nbformat": 4
 },
 "nbformat": 4,
 "nbformat_minor": 2
}
